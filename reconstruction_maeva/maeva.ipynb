{
 "cells": [
  {
   "cell_type": "code",
   "execution_count": 7,
   "metadata": {},
   "outputs": [],
   "source": [
    "import pandas as pd\n",
    "import os\n",
    "from datetime import datetime, timedelta"
   ]
  },
  {
   "cell_type": "code",
   "execution_count": 8,
   "metadata": {},
   "outputs": [],
   "source": [
    "def parse_date(date_str:str) -> datetime:\n",
    "        \"\"\"## parsing date string to datetime object\n",
    "        ### Args:\n",
    "            - `date_str (str)`: date string\n",
    "        ### Returns:\n",
    "            - `datetime`: datetime object\n",
    "        \"\"\"\n",
    "        # if date_str==\"\" or any(c.isalpha() for c in date_str):\n",
    "        #     return None\n",
    "        # date_formats = [\n",
    "        #     '%Y-%m-%d %H:%M:%S',  \n",
    "        #     '%Y-%m-%d',          \n",
    "        #     '%d-%m-%Y',       \n",
    "        #     '%d/%m/%Y'            \n",
    "        # ]\n",
    "        \n",
    "        return datetime.strptime(date_str, \"%d/%m/%Y\")"
   ]
  },
  {
   "cell_type": "code",
   "execution_count": 9,
   "metadata": {},
   "outputs": [],
   "source": [
    "start_date =\"31/08/2024\"\n",
    "end_date =\"06/09/2024\""
   ]
  },
  {
   "cell_type": "code",
   "execution_count": 10,
   "metadata": {},
   "outputs": [
    {
     "data": {
      "text/plain": [
       "7"
      ]
     },
     "execution_count": 10,
     "metadata": {},
     "output_type": "execute_result"
    }
   ],
   "source": [
    "start_date = parse_date(start_date)\n",
    "end_date = parse_date(end_date)\n",
    "(end_date - start_date).days + 1"
   ]
  },
  {
   "cell_type": "code",
   "execution_count": 3,
   "metadata": {},
   "outputs": [],
   "source": [
    "df1 = pd.read_csv(\"./data/maeva/20-05-2024/maeva_cleaned_20_05_2024.csv\")"
   ]
  },
  {
   "cell_type": "code",
   "execution_count": 4,
   "metadata": {},
   "outputs": [],
   "source": [
    "df2 = pd.read_csv(\"./data/maeva/27-05-2024/maeva_cleaned_27_05_2024.csv\")"
   ]
  },
  {
   "cell_type": "code",
   "execution_count": 6,
   "metadata": {},
   "outputs": [
    {
     "data": {
      "text/plain": [
       "True"
      ]
     },
     "execution_count": 6,
     "metadata": {},
     "output_type": "execute_result"
    }
   ],
   "source": [
    "list(df1.columns) == list(df2.columns)"
   ]
  },
  {
   "cell_type": "code",
   "execution_count": 9,
   "metadata": {},
   "outputs": [],
   "source": [
    "def is_column_completed(dataframe1:object, dataframe2:object) -> bool:\n",
    "    return dataframe1.columns.to_list() == dataframe2.columns.to_list()"
   ]
  },
  {
   "cell_type": "code",
   "execution_count": 10,
   "metadata": {},
   "outputs": [
    {
     "data": {
      "text/plain": [
       "True"
      ]
     },
     "execution_count": 10,
     "metadata": {},
     "output_type": "execute_result"
    }
   ],
   "source": [
    "is_column_completed(df1, df2)"
   ]
  },
  {
   "cell_type": "code",
   "execution_count": 44,
   "metadata": {},
   "outputs": [],
   "source": [
    "#list of filed required in csv file that will be used to check \n",
    "required_field = [\n",
    "    'date_debut',\n",
    "    'date_fin',\n",
    "    # 'prix_init',\n",
    "    # 'prix_actuel',\n",
    "    'typologie',\n",
    "    'n_offre',\n",
    "    'nom',\n",
    "    'localite',\n",
    "    'Nb semaines',\n",
    "    'cle_station',\n",
    "    'nom_station'\n",
    "]"
   ]
  },
  {
   "cell_type": "code",
   "execution_count": 47,
   "metadata": {},
   "outputs": [],
   "source": [
    "def is_in_dataframe1(dataframe:object, data:dict) -> bool:\n",
    "    condition = (dataframe['date_debut'] == data['date_debut']) & \\\n",
    "            (dataframe['date_fin'] == data['date_fin']) & \\\n",
    "            (dataframe['prix_init'] == data['prix_init']) & \\\n",
    "            (dataframe['prix_actuel'] == data['prix_actuel']) & \\\n",
    "            (dataframe['typologie'] == data['typologie']) & \\\n",
    "            (dataframe['n_offre'] == data['n_offre']) & \\\n",
    "            (dataframe['localite'] == data['localite']) & \\\n",
    "            (dataframe['n_offre'] == data['n_offre']) & \\\n",
    "            (dataframe['Nb semaines'] == data['Nb semaines']) & \\\n",
    "            (dataframe['cle_station'] == data['cle_station']) & \\\n",
    "            (dataframe['nom_station'] == data['nom_station']) & \\\n",
    "            (dataframe['nom'] == data['nom'])\n",
    "    result = dataframe[condition]\n",
    "    print(result.head())\n",
    "    return not result.empty, result"
   ]
  },
  {
   "cell_type": "code",
   "execution_count": 54,
   "metadata": {},
   "outputs": [],
   "source": [
    "def search_at_dataframe(dataframe:object, data:dict, check_fields:list) -> tuple:\n",
    "    conditions = pd.Series([True] * len(dataframe)) \n",
    "    for check_field in check_fields:\n",
    "        conditions &= (dataframe[check_field] == data[check_field])\n",
    "    result = dataframe[conditions]\n",
    "    print(result.head())\n",
    "    # return true if result is not empty and data result search\n",
    "    return not result.empty, result"
   ]
  },
  {
   "cell_type": "code",
   "execution_count": null,
   "metadata": {},
   "outputs": [],
   "source": [
    "df1.iloc[3126].to_dict()"
   ]
  },
  {
   "cell_type": "code",
   "execution_count": 52,
   "metadata": {},
   "outputs": [],
   "source": [
    "search_value = df1.iloc[3126].to_dict()"
   ]
  },
  {
   "cell_type": "code",
   "execution_count": null,
   "metadata": {},
   "outputs": [],
   "source": [
    "has_data, search_results  = search_at_dataframe(df2, search_value, required_field)"
   ]
  },
  {
   "cell_type": "code",
   "execution_count": 57,
   "metadata": {},
   "outputs": [
    {
     "data": {
      "text/plain": [
       "0.024752475247524754"
      ]
     },
     "execution_count": 57,
     "metadata": {},
     "output_type": "execute_result"
    }
   ],
   "source": [
    "5 / 202"
   ]
  },
  {
   "cell_type": "code",
   "execution_count": 56,
   "metadata": {},
   "outputs": [],
   "source": [
    "def get_ordered_edomizil_file_paths(root_dir):\n",
    "    # List to hold file paths with corresponding dates\n",
    "    files_with_dates = []\n",
    "\n",
    "    # Walk through the root directory\n",
    "    for dirpath, dirnames, filenames in os.walk(root_dir):\n",
    "        try:\n",
    "            dir_date = datetime.strptime(os.path.basename(dirpath), '%d-%m-%Y')\n",
    "        except ValueError:\n",
    "            continue \n",
    "\n",
    "        # Find all files that match the pattern\n",
    "        for filename in filenames:\n",
    "            if (filename.startswith('edomizil_cleaned')) and filename.endswith('.csv'):\n",
    "                files_with_dates.append((os.path.join(dirpath, filename), dir_date))\n",
    "\n",
    "    # Sort the list of files by the date part\n",
    "    files_with_dates.sort(key=lambda x: x[1])\n",
    "    print('Ordered Files :',files_with_dates)\n",
    "    # Extract and return only the file paths in sorted order\n",
    "    sorted_file_paths = [file_path for file_path, _ in files_with_dates]\n",
    "    return sorted_file_paths"
   ]
  },
  {
   "cell_type": "code",
   "execution_count": 8,
   "metadata": {},
   "outputs": [
    {
     "name": "stdout",
     "output_type": "stream",
     "text": [
      "Ordered Files : [('./data\\\\26-02-2024\\\\edomizil_cleaned_26_02_2024.csv', datetime.datetime(2024, 2, 26, 0, 0)), ('./data\\\\04-03-2024\\\\edomizil_cleaned_04_03_2024.csv', datetime.datetime(2024, 3, 4, 0, 0)), ('./data\\\\11-03-2024\\\\edomizil_cleaned_11_03_2024.csv', datetime.datetime(2024, 3, 11, 0, 0))]\n"
     ]
    },
    {
     "data": {
      "text/plain": [
       "['./data\\\\26-02-2024\\\\edomizil_cleaned_26_02_2024.csv',\n",
       " './data\\\\04-03-2024\\\\edomizil_cleaned_04_03_2024.csv',\n",
       " './data\\\\11-03-2024\\\\edomizil_cleaned_11_03_2024.csv']"
      ]
     },
     "execution_count": 8,
     "metadata": {},
     "output_type": "execute_result"
    }
   ],
   "source": [
    "get_ordered_edomizil_file_paths(\"./data\")"
   ]
  },
  {
   "cell_type": "code",
   "execution_count": 4,
   "metadata": {},
   "outputs": [],
   "source": [
    "def valid_date(date) -> bool:\n",
    "    try:\n",
    "        datetime.strptime(date, \"%d/%m/%Y\")\n",
    "        return True\n",
    "    except:\n",
    "        return False"
   ]
  },
  {
   "cell_type": "code",
   "execution_count": null,
   "metadata": {},
   "outputs": [],
   "source": [
    "def get_monday(date_str):\n",
    "    date = datetime.strptime(date_str, '%Y-%m-%d')\n",
    "    # Find out the current weekday (0=Monday, 6=Sunday)\n",
    "    weekday = date.weekday()\n",
    "    monday_date = date - timedelta(days=weekday)\n",
    "    return monday_date.strftime('%Y-%m-%d')"
   ]
  },
  {
   "cell_type": "code",
   "execution_count": null,
   "metadata": {},
   "outputs": [],
   "source": [
    "def "
   ]
  },
  {
   "cell_type": "code",
   "execution_count": null,
   "metadata": {},
   "outputs": [],
   "source": [
    "def update_missing_data(data:dict):\n",
    "    keys = ['date_scrap','date_debut', 'date_fin']\n",
    "    for key in keys:\n",
    "        if valid_date(data[key]):\n",
    "            pass"
   ]
  },
  {
   "cell_type": "code",
   "execution_count": null,
   "metadata": {},
   "outputs": [],
   "source": [
    "for data in df2:\n",
    "    "
   ]
  }
 ],
 "metadata": {
  "kernelspec": {
   "display_name": "venv",
   "language": "python",
   "name": "python3"
  },
  "language_info": {
   "codemirror_mode": {
    "name": "ipython",
    "version": 3
   },
   "file_extension": ".py",
   "mimetype": "text/x-python",
   "name": "python",
   "nbconvert_exporter": "python",
   "pygments_lexer": "ipython3",
   "version": "3.11.3"
  }
 },
 "nbformat": 4,
 "nbformat_minor": 2
}
