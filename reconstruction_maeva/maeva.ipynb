{
 "cells": [
  {
   "cell_type": "code",
   "execution_count": 7,
   "metadata": {},
   "outputs": [],
   "source": [
    "import pandas as pd\n",
    "import os\n",
    "from datetime import datetime, timedelta"
   ]
  },
  {
   "cell_type": "code",
   "execution_count": 2,
   "metadata": {},
   "outputs": [],
   "source": [
    "df1 = pd.read_csv(\"./data/26-02-2024/edomizil_cleaned_26_02_2024.csv\")"
   ]
  },
  {
   "cell_type": "code",
   "execution_count": 3,
   "metadata": {},
   "outputs": [],
   "source": [
    "df2 = pd.read_csv(\"./data/04-03-2024/edomizil_cleaned_04_03_2024.csv\")"
   ]
  },
  {
   "cell_type": "code",
   "execution_count": 24,
   "metadata": {},
   "outputs": [],
   "source": [
    "# Méthode 1: Utilisation de merge\n",
    "df_merged = pd.merge(df1, df2, on=['date_debut', 'date_fin', 'price', 'identifiant', 'typologie', 'nom'], how='left', indicator=True)\n",
    "df_unique_to_df1 = df_merged[df_merged['_merge'] == 'left_only'].drop(columns=['_merge'])\n",
    "\n",
    "# Sauvegarder les résultats\n",
    "df_unique_to_df1.to_csv('donnees_uniques_fichier1.csv', index=False)"
   ]
  },
  {
   "cell_type": "code",
   "execution_count": 13,
   "metadata": {},
   "outputs": [],
   "source": [
    "def is_in_dataframe(dataframe:object, data:dict) -> bool:\n",
    "    condition = (dataframe['date_debut'] == data['date_debut']) & \\\n",
    "            (dataframe['date_fin'] == data['date_fin']) & \\\n",
    "            (dataframe['identifiant'] == data['identifiant']) & \\\n",
    "            (dataframe['typologie'] == data['typologie']) & \\\n",
    "            (dataframe['nom'] == data['nom'])\n",
    "    result = dataframe[condition]\n",
    "    print(result.head())\n",
    "    return not result.empty"
   ]
  },
  {
   "cell_type": "code",
   "execution_count": 15,
   "metadata": {},
   "outputs": [
    {
     "data": {
      "text/plain": [
       "{'date_scrap': '26/02/2024',\n",
       " 'date_debut': '09/03/2024',\n",
       " 'date_fin': '16/03/2024',\n",
       " 'price': 1269.34,\n",
       " 'identifiant': 'HV8HA9U',\n",
       " 'typologie': '120 m² Maison de vacances ∙ 3 chambres ∙ 6 personnes',\n",
       " 'nom': 'Ayent - Valais'}"
      ]
     },
     "execution_count": 15,
     "metadata": {},
     "output_type": "execute_result"
    }
   ],
   "source": [
    "df1.iloc[219].to_dict()"
   ]
  },
  {
   "cell_type": "code",
   "execution_count": 17,
   "metadata": {},
   "outputs": [],
   "source": [
    "search = df1.iloc[219].to_dict()"
   ]
  },
  {
   "cell_type": "code",
   "execution_count": 18,
   "metadata": {},
   "outputs": [
    {
     "name": "stdout",
     "output_type": "stream",
     "text": [
      "     date_scrap  date_debut    date_fin    price identifiant  \\\n",
      "6    04/03/2024  09/03/2024  16/03/2024  1343.94     HV8HA9U   \n",
      "86   04/03/2024  09/03/2024  16/03/2024  1265.56     HV8HA9U   \n",
      "167  04/03/2024  09/03/2024  16/03/2024  1341.57     HV8HA9U   \n",
      "240  04/03/2024  09/03/2024  16/03/2024  1266.45     HV8HA9U   \n",
      "\n",
      "                                             typologie             nom  \n",
      "6    120 m² Maison de vacances ∙ 3 chambres ∙ 6 per...  Ayent - Valais  \n",
      "86   120 m² Maison de vacances ∙ 3 chambres ∙ 6 per...  Ayent - Valais  \n",
      "167  120 m² Maison de vacances ∙ 3 chambres ∙ 6 per...  Ayent - Valais  \n",
      "240  120 m² Maison de vacances ∙ 3 chambres ∙ 6 per...  Ayent - Valais  \n"
     ]
    },
    {
     "data": {
      "text/plain": [
       "True"
      ]
     },
     "execution_count": 18,
     "metadata": {},
     "output_type": "execute_result"
    }
   ],
   "source": [
    "is_in_dataframe(df2, search)"
   ]
  },
  {
   "cell_type": "code",
   "execution_count": 5,
   "metadata": {},
   "outputs": [],
   "source": [
    "def get_ordered_edomizil_file_paths(root_dir):\n",
    "    # List to hold file paths with corresponding dates\n",
    "    files_with_dates = []\n",
    "\n",
    "    # Walk through the root directory\n",
    "    for dirpath, dirnames, filenames in os.walk(root_dir):\n",
    "        try:\n",
    "            dir_date = datetime.strptime(os.path.basename(dirpath), '%d-%m-%Y')\n",
    "        except ValueError:\n",
    "            continue \n",
    "\n",
    "        # Find all files that match the pattern\n",
    "        for filename in filenames:\n",
    "            if (filename.startswith('edomizil_cleaned')) and filename.endswith('.csv'):\n",
    "                files_with_dates.append((os.path.join(dirpath, filename), dir_date))\n",
    "\n",
    "    # Sort the list of files by the date part\n",
    "    files_with_dates.sort(key=lambda x: x[1])\n",
    "    print('Ordered Files :',files_with_dates)\n",
    "    # Extract and return only the file paths in sorted order\n",
    "    sorted_file_paths = [file_path for file_path, _ in files_with_dates]\n",
    "    return sorted_file_paths"
   ]
  },
  {
   "cell_type": "code",
   "execution_count": 8,
   "metadata": {},
   "outputs": [
    {
     "name": "stdout",
     "output_type": "stream",
     "text": [
      "Ordered Files : [('./data\\\\26-02-2024\\\\edomizil_cleaned_26_02_2024.csv', datetime.datetime(2024, 2, 26, 0, 0)), ('./data\\\\04-03-2024\\\\edomizil_cleaned_04_03_2024.csv', datetime.datetime(2024, 3, 4, 0, 0)), ('./data\\\\11-03-2024\\\\edomizil_cleaned_11_03_2024.csv', datetime.datetime(2024, 3, 11, 0, 0))]\n"
     ]
    },
    {
     "data": {
      "text/plain": [
       "['./data\\\\26-02-2024\\\\edomizil_cleaned_26_02_2024.csv',\n",
       " './data\\\\04-03-2024\\\\edomizil_cleaned_04_03_2024.csv',\n",
       " './data\\\\11-03-2024\\\\edomizil_cleaned_11_03_2024.csv']"
      ]
     },
     "execution_count": 8,
     "metadata": {},
     "output_type": "execute_result"
    }
   ],
   "source": [
    "get_ordered_edomizil_file_paths(\"./data\")"
   ]
  },
  {
   "cell_type": "code",
   "execution_count": 4,
   "metadata": {},
   "outputs": [],
   "source": [
    "def valid_date(date) -> bool:\n",
    "    try:\n",
    "        datetime.strptime(date, \"%d/%m/%Y\")\n",
    "        return True\n",
    "    except:\n",
    "        return False"
   ]
  },
  {
   "cell_type": "code",
   "execution_count": null,
   "metadata": {},
   "outputs": [],
   "source": [
    "def get_monday(date_str):\n",
    "    date = datetime.strptime(date_str, '%Y-%m-%d')\n",
    "    # Find out the current weekday (0=Monday, 6=Sunday)\n",
    "    weekday = date.weekday()\n",
    "    monday_date = date - timedelta(days=weekday)\n",
    "    return monday_date.strftime('%Y-%m-%d')"
   ]
  },
  {
   "cell_type": "code",
   "execution_count": null,
   "metadata": {},
   "outputs": [],
   "source": [
    "def "
   ]
  },
  {
   "cell_type": "code",
   "execution_count": null,
   "metadata": {},
   "outputs": [],
   "source": [
    "def update_missing_data(data:dict):\n",
    "    keys = ['date_scrap','date_debut', 'date_fin']\n",
    "    for key in keys:\n",
    "        if valid_date(data[key]):\n",
    "            pass"
   ]
  },
  {
   "cell_type": "code",
   "execution_count": null,
   "metadata": {},
   "outputs": [],
   "source": [
    "for data in df2:\n",
    "    "
   ]
  }
 ],
 "metadata": {
  "kernelspec": {
   "display_name": "venv",
   "language": "python",
   "name": "python3"
  },
  "language_info": {
   "codemirror_mode": {
    "name": "ipython",
    "version": 3
   },
   "file_extension": ".py",
   "mimetype": "text/x-python",
   "name": "python",
   "nbconvert_exporter": "python",
   "pygments_lexer": "ipython3",
   "version": "3.11.3"
  }
 },
 "nbformat": 4,
 "nbformat_minor": 2
}
